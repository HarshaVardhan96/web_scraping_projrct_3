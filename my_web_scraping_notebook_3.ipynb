{
    "nbformat_minor": 1, 
    "cells": [
        {
            "execution_count": 2, 
            "cell_type": "code", 
            "metadata": {}, 
            "outputs": [], 
            "source": "import requests\nimport lxml\nfrom lxml import html"
        }, 
        {
            "execution_count": 3, 
            "cell_type": "code", 
            "metadata": {}, 
            "outputs": [], 
            "source": "response = requests.get(\"http://econpy.pythonanywhere.com/ex/001.html\")\ntree = html.fromstring(response.content)\n"
        }, 
        {
            "execution_count": 4, 
            "cell_type": "code", 
            "metadata": {}, 
            "outputs": [
                {
                    "execution_count": 4, 
                    "metadata": {}, 
                    "data": {
                        "text/plain": "<Element html at 0x7ff434406458>"
                    }, 
                    "output_type": "execute_result"
                }
            ], 
            "source": "tree"
        }, 
        {
            "execution_count": 13, 
            "cell_type": "code", 
            "metadata": {}, 
            "outputs": [], 
            "source": "buyers = tree.xpath('//div[@title = \"buyer-name\"]/text()')\nprices = tree.xpath('//span[@class= \"item-price\"]/text()')"
        }, 
        {
            "execution_count": 14, 
            "cell_type": "code", 
            "metadata": {}, 
            "outputs": [
                {
                    "execution_count": 14, 
                    "metadata": {}, 
                    "data": {
                        "text/plain": "['Carson Busses',\n 'Earl E. Byrd',\n 'Patty Cakes',\n 'Derri Anne Connecticut',\n 'Moe Dess',\n 'Leda Doggslife',\n 'Dan Druff',\n 'Al Fresco',\n 'Ido Hoe',\n 'Howie Kisses',\n 'Len Lease',\n 'Phil Meup',\n 'Ira Pent',\n 'Ben D. Rules',\n 'Ave Sectomy',\n 'Gary Shattire',\n 'Bobbi Soks',\n 'Sheila Takya',\n 'Rose Tattoo',\n 'Moe Tell']"
                    }, 
                    "output_type": "execute_result"
                }
            ], 
            "source": "buyers"
        }, 
        {
            "execution_count": 11, 
            "cell_type": "code", 
            "metadata": {}, 
            "outputs": [
                {
                    "execution_count": 11, 
                    "metadata": {}, 
                    "data": {
                        "text/plain": "['$29.95',\n '$8.37',\n '$15.26',\n '$19.25',\n '$19.25',\n '$13.99',\n '$31.57',\n '$8.49',\n '$14.47',\n '$15.86',\n '$11.11',\n '$15.98',\n '$16.27',\n '$7.50',\n '$50.85',\n '$14.26',\n '$5.68',\n '$15.00',\n '$114.07',\n '$10.09']"
                    }, 
                    "output_type": "execute_result"
                }
            ], 
            "source": "prices"
        }
    ], 
    "metadata": {
        "kernelspec": {
            "display_name": "Python 3.5", 
            "name": "python3", 
            "language": "python"
        }, 
        "language_info": {
            "mimetype": "text/x-python", 
            "nbconvert_exporter": "python", 
            "version": "3.5.5", 
            "name": "python", 
            "file_extension": ".py", 
            "pygments_lexer": "ipython3", 
            "codemirror_mode": {
                "version": 3, 
                "name": "ipython"
            }
        }
    }, 
    "nbformat": 4
}